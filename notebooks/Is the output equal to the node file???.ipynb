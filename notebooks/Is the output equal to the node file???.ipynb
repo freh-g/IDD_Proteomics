{
 "cells": [
  {
   "cell_type": "markdown",
   "id": "43ba2b1f",
   "metadata": {},
   "source": [
    "# IS THE OUTPUT EQUAL TO THE NODE FILE (INPUT)?"
   ]
  },
  {
   "cell_type": "code",
   "execution_count": 1,
   "id": "804f1719",
   "metadata": {},
   "outputs": [],
   "source": [
    "import pandas as pd"
   ]
  },
  {
   "cell_type": "code",
   "execution_count": 2,
   "id": "1f6aa81b",
   "metadata": {},
   "outputs": [],
   "source": [
    "input_control_healthy = pd.read_csv('../inputs/secretome/healthy_Ctrl_nodes.txt',sep=' ',index_col=0,names=['protein','score','boh'])\n",
    "input_control_healthy = input_control_healthy[input_control_healthy.columns.tolist()[:1]]\n",
    "output_control_healthy = pd.read_csv('../outputs/secretome/healthy_Ctrl_output.txt',sep='\\t',index_col=0,names=['protein','score'])"
   ]
  },
  {
   "cell_type": "code",
   "execution_count": 5,
   "id": "723fa076",
   "metadata": {},
   "outputs": [
    {
     "data": {
      "text/html": [
       "<div>\n",
       "<style scoped>\n",
       "    .dataframe tbody tr th:only-of-type {\n",
       "        vertical-align: middle;\n",
       "    }\n",
       "\n",
       "    .dataframe tbody tr th {\n",
       "        vertical-align: top;\n",
       "    }\n",
       "\n",
       "    .dataframe thead th {\n",
       "        text-align: right;\n",
       "    }\n",
       "</style>\n",
       "<table border=\"1\" class=\"dataframe\">\n",
       "  <thead>\n",
       "    <tr style=\"text-align: right;\">\n",
       "      <th></th>\n",
       "      <th>score</th>\n",
       "    </tr>\n",
       "    <tr>\n",
       "      <th>protein</th>\n",
       "      <th></th>\n",
       "    </tr>\n",
       "  </thead>\n",
       "  <tbody>\n",
       "    <tr>\n",
       "      <th>CXCL12</th>\n",
       "      <td>0.048875</td>\n",
       "    </tr>\n",
       "    <tr>\n",
       "      <th>VCAM1</th>\n",
       "      <td>0.053605</td>\n",
       "    </tr>\n",
       "    <tr>\n",
       "      <th>IL1RL1</th>\n",
       "      <td>0.068619</td>\n",
       "    </tr>\n",
       "    <tr>\n",
       "      <th>CCL2</th>\n",
       "      <td>0.070673</td>\n",
       "    </tr>\n",
       "    <tr>\n",
       "      <th>CCL22</th>\n",
       "      <td>0.076415</td>\n",
       "    </tr>\n",
       "    <tr>\n",
       "      <th>CCL20</th>\n",
       "      <td>0.127566</td>\n",
       "    </tr>\n",
       "    <tr>\n",
       "      <th>TIMP1</th>\n",
       "      <td>0.598212</td>\n",
       "    </tr>\n",
       "    <tr>\n",
       "      <th>VEGFA</th>\n",
       "      <td>0.684797</td>\n",
       "    </tr>\n",
       "    <tr>\n",
       "      <th>MMP2</th>\n",
       "      <td>0.928882</td>\n",
       "    </tr>\n",
       "    <tr>\n",
       "      <th>SERPINE1</th>\n",
       "      <td>1.000000</td>\n",
       "    </tr>\n",
       "  </tbody>\n",
       "</table>\n",
       "</div>"
      ],
      "text/plain": [
       "             score\n",
       "protein           \n",
       "CXCL12    0.048875\n",
       "VCAM1     0.053605\n",
       "IL1RL1    0.068619\n",
       "CCL2      0.070673\n",
       "CCL22     0.076415\n",
       "CCL20     0.127566\n",
       "TIMP1     0.598212\n",
       "VEGFA     0.684797\n",
       "MMP2      0.928882\n",
       "SERPINE1  1.000000"
      ]
     },
     "execution_count": 5,
     "metadata": {},
     "output_type": "execute_result"
    }
   ],
   "source": [
    "input_control_healthy.sort_values('score',ascending=True).tail(10)"
   ]
  },
  {
   "cell_type": "code",
   "execution_count": 6,
   "id": "231fa2d2",
   "metadata": {},
   "outputs": [
    {
     "data": {
      "text/html": [
       "<div>\n",
       "<style scoped>\n",
       "    .dataframe tbody tr th:only-of-type {\n",
       "        vertical-align: middle;\n",
       "    }\n",
       "\n",
       "    .dataframe tbody tr th {\n",
       "        vertical-align: top;\n",
       "    }\n",
       "\n",
       "    .dataframe thead th {\n",
       "        text-align: right;\n",
       "    }\n",
       "</style>\n",
       "<table border=\"1\" class=\"dataframe\">\n",
       "  <thead>\n",
       "    <tr style=\"text-align: right;\">\n",
       "      <th></th>\n",
       "      <th>score</th>\n",
       "    </tr>\n",
       "    <tr>\n",
       "      <th>protein</th>\n",
       "      <th></th>\n",
       "    </tr>\n",
       "  </thead>\n",
       "  <tbody>\n",
       "    <tr>\n",
       "      <th>MMP13</th>\n",
       "      <td>0.305146</td>\n",
       "    </tr>\n",
       "    <tr>\n",
       "      <th>COL7A1</th>\n",
       "      <td>0.307854</td>\n",
       "    </tr>\n",
       "    <tr>\n",
       "      <th>MMP9</th>\n",
       "      <td>0.314986</td>\n",
       "    </tr>\n",
       "    <tr>\n",
       "      <th>LAMA1</th>\n",
       "      <td>0.316840</td>\n",
       "    </tr>\n",
       "    <tr>\n",
       "      <th>SPOCK1</th>\n",
       "      <td>0.321399</td>\n",
       "    </tr>\n",
       "    <tr>\n",
       "      <th>MMP3</th>\n",
       "      <td>0.376731</td>\n",
       "    </tr>\n",
       "    <tr>\n",
       "      <th>TIMP1</th>\n",
       "      <td>0.630614</td>\n",
       "    </tr>\n",
       "    <tr>\n",
       "      <th>VEGFA</th>\n",
       "      <td>0.718570</td>\n",
       "    </tr>\n",
       "    <tr>\n",
       "      <th>SERPINE1</th>\n",
       "      <td>0.988335</td>\n",
       "    </tr>\n",
       "    <tr>\n",
       "      <th>MMP2</th>\n",
       "      <td>1.000000</td>\n",
       "    </tr>\n",
       "  </tbody>\n",
       "</table>\n",
       "</div>"
      ],
      "text/plain": [
       "             score\n",
       "protein           \n",
       "MMP13     0.305146\n",
       "COL7A1    0.307854\n",
       "MMP9      0.314986\n",
       "LAMA1     0.316840\n",
       "SPOCK1    0.321399\n",
       "MMP3      0.376731\n",
       "TIMP1     0.630614\n",
       "VEGFA     0.718570\n",
       "SERPINE1  0.988335\n",
       "MMP2      1.000000"
      ]
     },
     "execution_count": 6,
     "metadata": {},
     "output_type": "execute_result"
    }
   ],
   "source": [
    "output_control_healthy.sort_values('score',ascending=True).tail(10)"
   ]
  },
  {
   "cell_type": "markdown",
   "id": "8de1dc7f",
   "metadata": {},
   "source": [
    "# IT'S NOT YEEEEE"
   ]
  },
  {
   "cell_type": "markdown",
   "id": "6d6f4711",
   "metadata": {},
   "source": []
  }
 ],
 "metadata": {
  "kernelspec": {
   "display_name": "KG",
   "language": "python",
   "name": "kg"
  },
  "language_info": {
   "codemirror_mode": {
    "name": "ipython",
    "version": 3
   },
   "file_extension": ".py",
   "mimetype": "text/x-python",
   "name": "python",
   "nbconvert_exporter": "python",
   "pygments_lexer": "ipython3",
   "version": "3.1.-1"
  },
  "toc": {
   "base_numbering": 1,
   "nav_menu": {},
   "number_sections": true,
   "sideBar": true,
   "skip_h1_title": false,
   "title_cell": "Table of Contents",
   "title_sidebar": "Contents",
   "toc_cell": false,
   "toc_position": {},
   "toc_section_display": true,
   "toc_window_display": false
  }
 },
 "nbformat": 4,
 "nbformat_minor": 5
}
