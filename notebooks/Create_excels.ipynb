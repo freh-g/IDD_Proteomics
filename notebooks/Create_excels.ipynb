{
 "cells": [
  {
   "cell_type": "code",
   "execution_count": 1,
   "id": "bcf92939-e8b5-4f42-8e0d-b7352a254a39",
   "metadata": {},
   "outputs": [],
   "source": [
    "import pandas as pd\n",
    "import genopyc as gp\n",
    "import os\n",
    "import pickle as pk\n",
    "import networkx as nx"
   ]
  },
  {
   "cell_type": "code",
   "execution_count": 2,
   "id": "0da3db06-a7a7-42a0-a72a-ab4eea62b7bb",
   "metadata": {},
   "outputs": [],
   "source": [
    "path_baseline='../outputs/baseline_networks/pickle_nets/'"
   ]
  },
  {
   "cell_type": "markdown",
   "id": "96e67696-fe7a-47e3-9573-d3c2dd6a7e5a",
   "metadata": {},
   "source": [
    "# Database S1 Secreetome dataset trauma (Healthy)"
   ]
  },
  {
   "cell_type": "code",
   "execution_count": 3,
   "id": "4dc2708a-cc57-4c77-ad8c-0e8128f65817",
   "metadata": {},
   "outputs": [],
   "source": [
    "path_nodes = '../inputs/secretome/'\n",
    "\n",
    "with open(path_baseline + 'Secretome_trauma_healthy.pickle' , 'rb') as f:\n",
    "    secretome_h = pk.load(f)\n",
    "names = []\n",
    "lof = []\n",
    "for file in os.listdir(path_nodes):\n",
    "    if ('check' not in file) & ('healthy' in file):\n",
    "        names.append(file)\n",
    "        tmp = pd.read_csv(path_nodes + file,sep  = ' ',header=None)\n",
    "        nodes = tmp[0].tolist()\n",
    "        subnet = nx.subgraph(secretome_h,nodes)\n",
    "        subnet_df = nx.to_pandas_edgelist(subnet)\n",
    "        lof.append(subnet_df)\n",
    "\n",
    "\n",
    "with pd.ExcelWriter('../Excels_interactomes/Database S1 Secretome dataset-based protein interactomes in trauma PPI networks.xlsx', engine='openpyxl') as writer:\n",
    "    for n,net in zip(names,lof):\n",
    "        net.to_excel(writer, sheet_name=n, index=False)\n",
    "\n",
    "    "
   ]
  },
  {
   "cell_type": "markdown",
   "id": "1cd06fcb-d3ee-4798-ae73-97fdd2235784",
   "metadata": {},
   "source": [
    "# Database S2 Secreetome dataset Degenerated\n",
    "\n"
   ]
  },
  {
   "cell_type": "code",
   "execution_count": 8,
   "id": "74c74b41-9488-4cb2-80a4-8db7ddc4ebcf",
   "metadata": {},
   "outputs": [],
   "source": [
    "path_nodes = '../inputs/secretome/'\n",
    "\n",
    "with open(path_baseline + 'Secretome_deg.pickle', 'rb') as f:\n",
    "    secretome_h = pk.load(f)\n",
    "names = []\n",
    "lof = []\n",
    "for file in os.listdir(path_nodes):\n",
    "    if ('check' not in file) & ('degenerated' in file):\n",
    "        names.append(file)\n",
    "        tmp = pd.read_csv(path_nodes + file,sep  = ' ',header=None)\n",
    "        nodes = tmp[0].tolist()\n",
    "        subnet = nx.subgraph(secretome_h,nodes)\n",
    "        subnet_df = nx.to_pandas_edgelist(subnet)\n",
    "        lof.append(subnet_df)\n",
    "\n",
    "\n",
    "with pd.ExcelWriter('../Excels_interactomes/Database S2 Secretome dataset-based protein interactomes in degenerated PPI networks.xlsx', engine='openpyxl') as writer:\n",
    "    for n,net in zip(names,lof):\n",
    "        net.to_excel(writer, sheet_name=n, index=False)\n"
   ]
  },
  {
   "cell_type": "markdown",
   "id": "99f3b233-dc7c-4ec3-b1ef-7d886650f4c3",
   "metadata": {},
   "source": [
    "# Database S3 Secreetome dataset explants"
   ]
  },
  {
   "cell_type": "code",
   "execution_count": 5,
   "id": "821a167b-6df7-41e7-843d-94f55034ebeb",
   "metadata": {},
   "outputs": [],
   "source": [
    "path_nodes = '../inputs/explants/'\n",
    "\n",
    "with open(path_baseline + 'explants_ctrl.pickle' , 'rb') as f:\n",
    "    secretome_h = pk.load(f)\n",
    "names = []\n",
    "lof = []\n",
    "for file in os.listdir(path_nodes):\n",
    "    if 'check' not in file :\n",
    "        names.append(file)\n",
    "        tmp = pd.read_csv(path_nodes + file,sep  = ' ',header=None)\n",
    "        nodes = tmp[0].tolist()\n",
    "        subnet = nx.subgraph(secretome_h,nodes)\n",
    "        subnet_df = nx.to_pandas_edgelist(subnet)\n",
    "        lof.append(subnet_df)\n",
    "\n",
    "\n",
    "with pd.ExcelWriter('../Excels_interactomes/Database S3 Secretome dataset-based protein interactomes in explant PPI networks.xlsx', engine='openpyxl') as writer:\n",
    "    for n,net in zip(names,lof):\n",
    "        net.to_excel(writer, sheet_name=n, index=False)\n"
   ]
  },
  {
   "cell_type": "markdown",
   "id": "cac94b7f-f518-4586-a08a-de58befc2f5c",
   "metadata": {},
   "source": [
    "# Database s4 mass spectrometry interactomes in old"
   ]
  },
  {
   "cell_type": "code",
   "execution_count": 13,
   "id": "2bd13e13-6364-480a-982c-c3d98ebd1e07",
   "metadata": {},
   "outputs": [],
   "source": [
    "path_nodes = '../inputs/Dipper/'\n",
    "\n",
    "with open(path_baseline + 'Dipper_old.pickle' , 'rb') as f:\n",
    "    secretome_h = pk.load(f)\n",
    "names = []\n",
    "lof = []\n",
    "for file in os.listdir(path_nodes):\n",
    "    if ('check' not in file) & ('old' in file)&('interactome' in file):\n",
    "        names.append(file)\n",
    "        tmp = pd.read_csv(path_nodes + file,sep  = '\\t',header=None)\n",
    "        nodes = tmp[0].tolist()\n",
    "        subnet = nx.subgraph(secretome_h,nodes)\n",
    "        subnet_df = nx.to_pandas_edgelist(subnet)\n",
    "        lof.append(subnet_df)\n",
    "\n",
    "\n",
    "with pd.ExcelWriter('../Excels_interactomes/Database S4: Mass spectroscopy dataset-based protein interactomes in old PPI network.xlsx', engine='openpyxl') as writer:\n",
    "    for n,net in zip(names,lof):\n",
    "        net.to_excel(writer, sheet_name=n, index=False)"
   ]
  },
  {
   "cell_type": "markdown",
   "id": "173a79bf-df3d-44d4-be05-5f414ec88eee",
   "metadata": {},
   "source": [
    "# Database s5 mass spectrometry interactomes in young"
   ]
  },
  {
   "cell_type": "code",
   "execution_count": 14,
   "id": "3306f394-1a5b-462e-822f-a514c3d034cc",
   "metadata": {},
   "outputs": [],
   "source": [
    "path_nodes = '../inputs/Dipper/'\n",
    "\n",
    "with open(path_baseline + 'Dipper_young.pickle' , 'rb') as f:\n",
    "    secretome_h = pk.load(f)\n",
    "names = []\n",
    "lof = []\n",
    "for file in os.listdir(path_nodes):\n",
    "    if ('check' not in file) & ('young' in file) & ('interactome' in file):\n",
    "        names.append(file)\n",
    "        tmp = pd.read_csv(path_nodes + file,sep  = '\\t',header=None)\n",
    "        nodes = tmp[0].tolist()\n",
    "        subnet = nx.subgraph(secretome_h,nodes)\n",
    "        subnet_df = nx.to_pandas_edgelist(subnet)\n",
    "        lof.append(subnet_df)\n",
    "\n",
    "\n",
    "with pd.ExcelWriter('../Excels_interactomes/Database S5: Mass spectroscopy dataset-based protein interactomes in young PPI network.xlsx', engine='openpyxl') as writer:\n",
    "    for n,net in zip(names,lof):\n",
    "        net.to_excel(writer, sheet_name=n, index=False)\n"
   ]
  },
  {
   "cell_type": "code",
   "execution_count": null,
   "id": "892849fd-c34b-40b4-a248-0b1e31b969d4",
   "metadata": {},
   "outputs": [],
   "source": []
  }
 ],
 "metadata": {
  "kernelspec": {
   "display_name": "va",
   "language": "python",
   "name": "va"
  },
  "language_info": {
   "codemirror_mode": {
    "name": "ipython",
    "version": 3
   },
   "file_extension": ".py",
   "mimetype": "text/x-python",
   "name": "python",
   "nbconvert_exporter": "python",
   "pygments_lexer": "ipython3",
   "version": "3.11.5"
  }
 },
 "nbformat": 4,
 "nbformat_minor": 5
}
